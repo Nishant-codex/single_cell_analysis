{
 "cells": [
  {
   "cell_type": "code",
   "execution_count": 64,
   "metadata": {},
   "outputs": [],
   "source": [
    "# import brian2 as b2\n",
    "import numpy as np\n",
    "import matplotlib.pyplot as plt\n",
    "# from neurodynex.leaky_integrate_and_fire import LIF\n",
    "# from neurodynex.tools import input_factory, plot_tools\n",
    "\n",
    "default_pars = {'V_th': -55.0, 'V_reset': -75.0, 'tau_m': 10.0,\n",
    "                'g_L': 10.0, 'V_init': -75.0, 'E_L': -75.0, 'tref': 2.0,\n",
    "                'T': 400.0, 'dt': 0.1,\n",
    "                'range_t': np.arange(2000)}\n",
    "\n",
    "\n",
    "\n",
    "def get_noisy_current_OU( t_end, unit_time, I_stim0, I_avg, tau_n = 10, sig_noise = 1, myseed=10):\n",
    "\n",
    "    \"\"\"Creates a noise injection using Ornstein-Uhlenbeck (OU) process.\n",
    "    Args:\n",
    "        t_end (int): end of the step in ms\n",
    "        unit_time (Brian2 unit): unit of t_start and t_end. e.g. 0.1*brian2.ms\n",
    "        I_stim0 (int): inital value for the injected current\n",
    "        unit (Quantity): unit of the current usially uA\n",
    "        tau_n (Quantity): noise time constant\n",
    "        sig_noise (Quantity): standard deviation of noise \n",
    "\n",
    "    Returns:\n",
    "        TimedArray: Brian2.TimedArray\n",
    "    \"\"\"\n",
    "\n",
    "\n",
    "    # Retrieve simulation parameters\n",
    "    dt = 1. * unit_time\n",
    "    Lt =  t_end\n",
    "\n",
    "    # Set random seed\n",
    "    if myseed:\n",
    "        np.random.seed(seed=myseed)\n",
    "    else:\n",
    "        np.random.seed()\n",
    "\n",
    "    # Generate GWN\n",
    "    # we divide here by 1000 to convert units to sec.\n",
    "    I_gwn = np.zeros((int(Lt/dt),1))\n",
    "\n",
    "\n",
    "    I_stim = np.zeros((int(t_end/dt)))\n",
    "    I_stim[0] = I_stim0\n",
    " \n",
    "    for t_ in range(0,int(t_end/dt)):\n",
    "        I_stim[t_]=I_avg+((I_avg-I_stim[t_-1])/tau_n)+sig_noise*np.random.normal(0,1)\n",
    "    \n",
    "    I_gwn[:,0] = I_stim\n",
    "\n",
    "    tmp = I_gwn\n",
    "    curr = tmp #TimedArray(tmp, dt=1. * unit_time)\n",
    "    return curr\n",
    "\n",
    "default_pars = {'V_th': 0.0279, 'V_reset': -0.0279, 'tau_m': 10.0,\n",
    "                'g_L': 1.0, 'V_init': 0, 'E_L': 0.0, 'tref': 2.0,\n",
    "                'T': 500.0, 'dt': 0.1,\n",
    "                'range_t': np.arange(5000),'seed':0}\n",
    "\n",
    "def run_LIF(pars,  stop=False):\n",
    "    \"\"\"\n",
    "    Simulate the LIF dynamics with external input current\n",
    "\n",
    "    Args:\n",
    "    pars       : parameter dictionary\n",
    "    Iinj       : input current [pA]. The injected current here can be a value\n",
    "                    or an array\n",
    "    stop       : boolean. If True, use a current pulse\n",
    "\n",
    "    Returns:\n",
    "    rec_v      : membrane potential\n",
    "    rec_sp     : spike times\n",
    "    \"\"\"\n",
    "\n",
    "    # Set parameters\n",
    "    V_th, V_reset = pars['V_th'], pars['V_reset']\n",
    "    tau_m, g_L = pars['tau_m'], pars['g_L']\n",
    "    V_init, E_L = pars['V_init'], pars['E_L']\n",
    "    dt, range_t = pars['dt'], pars['range_t']\n",
    "    T = pars['T']\n",
    "    # print(T)\n",
    "    seed = pars['seed']\n",
    "    Lt = range_t.size\n",
    "    tref = pars['tref']\n",
    "    # Initialize voltage\n",
    "    v = np.zeros(Lt)\n",
    "    v[0] = V_init\n",
    "\n",
    "    SNR = 0.6\n",
    "    Iinj = SNR*get_noisy_current_OU(int(T), dt,0,0,myseed=seed)+np.sqrt(1-SNR)*get_noisy_current_OU(int(T), dt,0,0,myseed=seed)\n",
    "    rec_spikes = []  # record spike times\n",
    "    tr = 0.  # the count for refractory duration\n",
    "\n",
    "    for it in range(Lt - 1):\n",
    "\n",
    "        if tr > 0:  # check if in refractory period\n",
    "            v[it] = V_reset  # set voltage to reset\n",
    "            tr = tr - 1 # reduce running counter of refractory period\n",
    "\n",
    "        elif v[it] >= V_th:  # if voltage over threshold\n",
    "            rec_spikes.append(it)  # record spike event\n",
    "            v[it] = V_reset  # reset voltage\n",
    "            tr = tref / dt  # set refractory time\n",
    "\n",
    "        # Calculate the increment of the membrane potential\n",
    "        dv = (-(v[it]-E_L)+Iinj[it]/g_L)* (dt / tau_m)\n",
    "\n",
    "        # Update the membrane potential\n",
    "        v[it + 1] = v[it]+dv\n",
    "\n",
    "        # Get spike times in ms\n",
    "        rec_spikes_ = np.array(rec_spikes) * dt\n",
    "\n",
    "    return v, rec_spikes_,Iinj\n",
    "spikes_t_s_u = []\n",
    "N_stim = 10\n",
    "for i in range(N_stim):\n",
    "    default_pars['seed']=i\n",
    "    v,spikes,I =run_LIF(default_pars,)\n",
    "    spikes_t_s_u.append(spikes)\n",
    "# plt.plot(v)\n",
    "# plt.scatter(np.array(spikes/0.1-0.01,dtype=np.int32),v[np.array(spikes/0.1-0.01,dtype=np.int32)])\n",
    "# plt.show()\n",
    "# plt.plot(I)\n",
    "# plt.show()"
   ]
  },
  {
   "cell_type": "code",
   "execution_count": 68,
   "metadata": {},
   "outputs": [
    {
     "data": {
      "text/plain": [
       "[array([ 15.4,  24.7,  32.9,  42.1,  59.8,  63.6,  67.1,  73.3, 100.7,\n",
       "        104.3, 127.7, 132. , 153.4, 165.9, 169.8, 184.8, 212.4, 223.5,\n",
       "        257.1, 266.6, 318.4, 327.4, 348.1, 362.2, 374.3, 433.6, 441.1,\n",
       "        448.8, 488.7]),\n",
       " array([  6.3,  14.6,  17.7,  22.6,  27.3,  31.5,  44.1,  47.4,  57.4,\n",
       "         84.3,  94.1, 110.2, 123. , 128. , 132.4, 141.8, 144.3, 147.9,\n",
       "        179.3, 184.9, 217.7, 225.3, 241.5, 263.4, 302.3, 306.1, 311.2,\n",
       "        316.9, 333.5, 383.1, 391.1, 395.1, 401.4, 404.3, 407.8, 415.4,\n",
       "        418. , 422.4, 429.8, 447. , 449.9, 452.9, 460.7, 464.5, 470.7,\n",
       "        475.9, 485.8]),\n",
       " array([ 16.9,  36.8,  39.4, 108.3, 131.3, 135.4, 175.5, 178.4, 187.5,\n",
       "        190.3, 200.5, 205.2, 257.1, 261.7, 265.4, 269.5, 275.6, 278.2,\n",
       "        297.1, 311.4, 325.2, 337.5, 387.3, 392.9, 397. , 402.1, 410.9,\n",
       "        428.9, 431.7, 445.5, 452.3, 455.5, 459.6, 476.5]),\n",
       " array([ 21.7,  24.6,  29. ,  45.6,  59.9,  66.8,  90.6,  96.1, 103.5,\n",
       "        147.5, 162.2, 218.6, 233.2, 239.8, 245.9, 253.8, 280.2, 283.5,\n",
       "        297.5, 332.4, 341.1, 380. , 413.8, 446.9]),\n",
       " array([  2.9,   7.1,  11.1,  23.3,  29.3,  32.4,  46.3,  52.5,  56.9,\n",
       "         67.4,  70.1,  72.8,  90.4, 113.4, 119.2, 123.4, 132. , 137.7,\n",
       "        141.5, 159.3, 166.2, 170.7, 188.1, 220. , 222.3, 225.1, 228.1,\n",
       "        240.7, 245.6, 255.9, 278.4, 281.9, 289.3, 317.9, 323.4, 330.5,\n",
       "        344.3, 356. , 368.1, 370.6, 385. , 405.2, 420.1, 448.1, 456.3,\n",
       "        467. , 470.9, 486.9]),\n",
       " array([3.000e-01, 4.600e+00, 1.080e+01, 1.410e+01, 3.170e+01, 3.850e+01,\n",
       "        5.480e+01, 7.990e+01, 8.360e+01, 8.700e+01, 9.810e+01, 1.046e+02,\n",
       "        1.091e+02, 1.203e+02, 1.259e+02, 1.313e+02, 1.874e+02, 2.508e+02,\n",
       "        2.533e+02, 2.566e+02, 2.699e+02, 2.800e+02, 2.973e+02, 2.998e+02,\n",
       "        3.113e+02, 3.196e+02, 3.298e+02, 3.324e+02, 3.389e+02, 3.496e+02,\n",
       "        3.681e+02, 3.733e+02, 3.767e+02, 3.883e+02, 3.925e+02, 3.982e+02,\n",
       "        4.012e+02, 4.045e+02, 4.493e+02]),\n",
       " array([  1.4,   9.8,  25.3,  28.5,  34.1,  37.7,  62.3,  91.2,  94.4,\n",
       "        121.2, 132.7, 136. , 138.9, 145.5, 152.3, 155.7, 168.2, 174.3,\n",
       "        177.5, 190.3, 204.5, 207.5, 214.3, 220.8, 225.5, 229.7, 235. ,\n",
       "        252.8, 259.4, 262.6, 266.7, 271.5, 277.4, 285.5, 327.4, 360.2,\n",
       "        363.9, 372.2, 377. , 380.9, 384.1, 389.2, 411.1, 416. , 419.9,\n",
       "        456.7, 462.6, 481.9, 493. , 496.2]),\n",
       " array([  9.7,  61.4,  94.4,  98.6, 103.6, 114.5, 124. , 143.2, 146.1,\n",
       "        214.8, 224.1, 236.6, 242.5, 247.2, 250. , 252.5, 255.3, 349.5,\n",
       "        360.1, 371.3, 396.6, 399.4, 438.3, 443.6, 472.8, 491.1, 493.9]),\n",
       " array([  0.9,   9.8,  37.6,  42.9,  47.7,  52.6,  55.1,  57.7,  61.3,\n",
       "         64.6,  69.6,  74.5,  98. , 100.8, 109.5, 119.2, 123.6, 127.4,\n",
       "        131.7, 134.5, 147.3, 150.7, 162.3, 168.8, 174.5, 177. , 183.1,\n",
       "        228.9, 232. , 237.1, 258.5, 267.7, 275.9, 292.3, 325.9, 339.8,\n",
       "        345.5, 348.3, 390.2, 404.1, 417.4, 425.8, 442.2, 445.8, 457.1,\n",
       "        462.6, 469.6]),\n",
       " array([  2. ,  13. ,  16.3,  25.3,  28.5,  31.2,  46.6,  52.2,  63.6,\n",
       "         74.5,  79.4,  82. ,  91.5,  94.3, 115.5, 124. , 131.9, 139.4,\n",
       "        171.1, 179.7, 194.7, 203.6, 206.6, 213.7, 217.5, 245.8, 254.5,\n",
       "        257. , 271.2, 301.7, 316.2, 323.3, 332.1, 339.4, 385.1, 401.9,\n",
       "        407. , 412.8, 422.1, 427.1, 431.8, 436. , 438.9, 448.8, 455.4,\n",
       "        459.1, 466.4, 470.2, 476. ])]"
      ]
     },
     "execution_count": 68,
     "metadata": {},
     "output_type": "execute_result"
    }
   ],
   "source": [
    "spikes_t_s_u"
   ]
  },
  {
   "cell_type": "code",
   "execution_count": 67,
   "metadata": {},
   "outputs": [
    {
     "name": "stdout",
     "output_type": "stream",
     "text": [
      "29\n",
      "47\n",
      "34\n",
      "24\n",
      "48\n",
      "39\n",
      "50\n",
      "27\n",
      "47\n",
      "49\n"
     ]
    },
    {
     "data": {
      "text/plain": [
       "[<matplotlib.lines.Line2D at 0x1812c881250>]"
      ]
     },
     "execution_count": 67,
     "metadata": {},
     "output_type": "execute_result"
    },
    {
     "data": {
      "image/png": "[encoded data removed]",
      "text/plain": [
       "<Figure size 432x288 with 1 Axes>"
      ]
     },
     "metadata": {
      "needs_background": "light"
     },
     "output_type": "display_data"
    }
   ],
   "source": [
    "for i in spikes_t_s_u:\n",
    "    print(len(i)) \n",
    "plt.plot(v)\n",
    "# plt.plot(get_noisy_current_OU(400, dt,0,0,myseed=1))\n"
   ]
  },
  {
   "cell_type": "code",
   "execution_count": 11,
   "metadata": {},
   "outputs": [
    {
     "data": {
      "text/plain": [
       "(100, 34)"
      ]
     },
     "execution_count": 11,
     "metadata": {},
     "output_type": "execute_result"
    }
   ],
   "source": [
    "1. Generate 100 spike trains for different OU inputs \n",
    "2. generate 100 spike for the same OU input "
   ]
  },
  {
   "cell_type": "code",
   "execution_count": 11,
   "metadata": {},
   "outputs": [],
   "source": [
    "from scipy.io import loadmat\n",
    "import numpy as np\n",
    "spikesmat_tsr = loadmat(\"C:/Users/Nishant Joshi/Documents/Mariam/spikes_tsr.mat\")\n",
    "spikesmat_tsu = loadmat(\"C:/Users/Nishant Joshi/Documents/Mariam/spikes_tsu.mat\")\n"
   ]
  },
  {
   "cell_type": "code",
   "execution_count": 12,
   "metadata": {},
   "outputs": [
    {
     "name": "stdout",
     "output_type": "stream",
     "text": [
      "1000\n"
     ]
    }
   ],
   "source": [
    "print(len(spikesmat_tsu['t_s_u'][0][0]))\n",
    "# print('--------------------1-----1-----1')"
   ]
  },
  {
   "cell_type": "code",
   "execution_count": 13,
   "metadata": {},
   "outputs": [
    {
     "data": {
      "text/plain": [
       "(1000, 1)"
      ]
     },
     "execution_count": 13,
     "metadata": {},
     "output_type": "execute_result"
    }
   ],
   "source": [
    "spikesmat_tsu['t_s_u'][0][0].shape"
   ]
  },
  {
   "cell_type": "code",
   "execution_count": 14,
   "metadata": {},
   "outputs": [],
   "source": [
    "test_spike_t_s_u = np.array(spikesmat_tsu['t_s_u'])[0][0][:10]\n",
    "test_spike_t_s_r = np.array(spikesmat_tsr['t_s_r'])[0][0][:10]\n"
   ]
  },
  {
   "cell_type": "code",
   "execution_count": 42,
   "metadata": {},
   "outputs": [
    {
     "name": "stdout",
     "output_type": "stream",
     "text": [
      "554\n",
      "491\n",
      "473\n",
      "519\n",
      "528\n",
      "504\n",
      "523\n",
      "515\n",
      "490\n",
      "503\n"
     ]
    }
   ],
   "source": [
    "for i in test_spike_t_s_u:\n",
    "    print(len(i[0][0]))"
   ]
  },
  {
   "cell_type": "code",
   "execution_count": 16,
   "metadata": {},
   "outputs": [
    {
     "name": "stdout",
     "output_type": "stream",
     "text": [
      "[[500. 499.]\n",
      " [501. 500.]]\n"
     ]
    }
   ],
   "source": [
    "s1 = np.repeat(np.expand_dims(np.array([1,2]),axis=0).T,2,axis=1)\n",
    "s2 = np.repeat(np.expand_dims(np.array([1,2]),axis=1).T,2,axis=0)\n",
    "print(s1-s2+10/(2*(0.1**2)))\n"
   ]
  },
  {
   "cell_type": "code",
   "execution_count": 17,
   "metadata": {},
   "outputs": [],
   "source": [
    "def auto_corr(plot_taus,sigma,t_s):\n",
    "    Ntr = np.shape(t_s)[1]\n",
    "    \n",
    "    # auto_corr = np.zeros((len(plot_taus),1))\n",
    "    auto_corr = []\n",
    "    for k in range(Ntr):\n",
    "        auto_corr_temp = []\n",
    "        ST1= t_s[0][k][0]\n",
    "\n",
    "        N = len(ST1)\n",
    "\n",
    "        s1 = np.repeat(np.expand_dims(ST1.T,axis=0).T,N,axis=1)\n",
    "        s2 = np.repeat(np.expand_dims(ST1,axis=1).T,N,axis=0)\n",
    "        for i in range(len(plot_taus)):\n",
    "            tau = plot_taus[i]\n",
    "            cons_a = np.exp(-((s1-s2+tau)**2)/(2*(sigma**2)))\n",
    "            cons_b = np.exp(-(tau)**2/(2*(sigma**2)))\n",
    "            auto_corr_temp.append((np.sum(cons_a)-N*cons_b)/(np.sqrt(2*np.pi)*sigma))\n",
    "        auto_corr.append(auto_corr_temp)\n",
    "    auto_corr=np.mean(auto_corr,axis=0)\n",
    "    return np.expand_dims(auto_corr,axis=1)\n",
    "\n",
    "def cross_corr(plot_taus,sigma,t_s):\n",
    "    \n",
    "    Ntr =np.shape(t_s)[1]\n",
    "    cross_corr = np.zeros((len(plot_taus),1))\n",
    "    t_s1 = t_s[0]\n",
    "    t_s2 = t_s[0][1:]\n",
    "    for k in range(Ntr-1):\n",
    "        ST1 = t_s1[k][0]\n",
    "        ST2 = t_s2[k][0]\n",
    "        l1 = len(ST1)\n",
    "        l2 = len(ST2)\n",
    "        sig1 = np.expand_dims(ST1,axis=0)\n",
    "        sig2 = np.expand_dims(ST2,axis=0)\n",
    "        s1 = np.repeat(sig1.T,l2,axis=1)\n",
    "        s2 = np.repeat(sig2,l1,axis=0)\n",
    "\n",
    "        for i in range(len(plot_taus)):\n",
    "            tau = plot_taus[i]\n",
    "            cons = np.exp(-(s1-s2+tau)**2/(2*sigma**2))\n",
    "            cross_corr[i] +=np.sum(cons)/(np.sqrt(2*np.pi)*sigma)\n",
    "\n",
    "    cross_corr=cross_corr/(Ntr-1)\n",
    "    return cross_corr\n",
    "\n",
    "def My_DFT_custom_freqs(t,x,freqs):\n",
    "    # %MY_DFT Gives the discrete fouriertransform for an input of a time vector t\n",
    "    # % and the function x that will be fouriertransformed. \n",
    "    # %   Also we could introduce a custom freqs vector in the future to\n",
    "    # %   customize the frequency resolution.\n",
    "    print(x.shape)\n",
    "    f_coefs = np.zeros((1,len(freqs)))\n",
    "    \n",
    "    \n",
    "    T_seq = np.max(t) - np.min(t)\n",
    "    for k in range(f_coefs.shape[1]):\n",
    "        # print(np.exp(-1j*2*np.pi*freqs[k]*t[:-1]))\n",
    "        f_coefs[0,k] = np.real(np.mean(x[0,:-1]*(np.exp(-1j*2*np.pi*freqs[k]*t[:-1]))))\n",
    "    \n",
    "    return f_coefs\n"
   ]
  },
  {
   "cell_type": "code",
   "execution_count": 21,
   "metadata": {},
   "outputs": [],
   "source": [
    "num_tau_min  = -100  #% (ms)\n",
    "num_tau_max =  100  #% (ms)\n",
    "num_dtau    =  0.1  #% (ms)\n",
    "\n",
    "                  \n",
    "num_taus = np.arange(num_tau_min,num_tau_max+num_dtau,num_dtau)\n",
    "\n",
    "sigma =0.01\n",
    "autocor_num_u = auto_corr(num_taus,sigma,test_spike_t_s_u[:10].T)  # what is sigma?\n",
    "crosscorr_num_r  = cross_corr(num_taus, sigma, test_spike_t_s_r[:10].T)#\n",
    "            "
   ]
  },
  {
   "cell_type": "code",
   "execution_count": 23,
   "metadata": {},
   "outputs": [
    {
     "data": {
      "text/plain": [
       "(2001, 1)"
      ]
     },
     "execution_count": 23,
     "metadata": {},
     "output_type": "execute_result"
    }
   ],
   "source": [
    "autocor_num_u.shape"
   ]
  },
  {
   "cell_type": "code",
   "execution_count": 143,
   "metadata": {},
   "outputs": [],
   "source": [
    "num_tau_min  = -100  #% (ms)\n",
    "num_tau_max =  100  #% (ms)\n",
    "num_dtau    =  0.1  #% (ms)\n",
    "\n",
    "                  \n",
    "num_taus = np.arange(num_tau_min,num_tau_max+num_dtau,num_dtau)\n",
    "\n",
    "sigma =0.01\n",
    "autocor_num_u = auto_corr(num_taus,sigma,test_spike_t_s_u[:10].T)  # what is sigma?\n",
    "crosscorr_num_r  = cross_corr(num_taus, sigma, test_spike_t_s_r[:10].T)#\n",
    "            "
   ]
  },
  {
   "cell_type": "code",
   "execution_count": 24,
   "metadata": {},
   "outputs": [
    {
     "name": "stdout",
     "output_type": "stream",
     "text": [
      "(1, 2001)\n"
     ]
    },
    {
     "name": "stdout",
     "output_type": "stream",
     "text": [
      "(1, 2001)\n"
     ]
    }
   ],
   "source": [
    "     \n",
    "freq_max = 500 # Max frequency to evaluate (Hz)\n",
    "\n",
    "delta_f = 1 \n",
    "\n",
    "\n",
    "\n",
    "# % Assigning vectors\n",
    "freqs = np.arange(0,freq_max+delta_f, delta_f) #;\n",
    " \n",
    "Nf = len(freqs) #; % number of frequencies\n",
    " \n",
    "num_delta_f = 1/(num_tau_max-num_tau_min)*1000\n",
    "num_freqs   = np.arange(0,(1/num_dtau*1000/2)+num_delta_f, num_delta_f)/1000\n",
    "steps = 10000\n",
    "dt = 0.1\n",
    "T_seq_korrigiert = steps*dt\n",
    "N = 1\n",
    "Ntr = 10\n",
    "FiR_u = np.zeros((1,Ntr))\n",
    "FiR_r = np.zeros((1,Ntr))\n",
    "\n",
    "\n",
    "for j  in range(Ntr):\n",
    "   FiR_u[0,j] = len(test_spike_t_s_u.T[0,j][0])/T_seq_korrigiert\n",
    "   FiR_r[0,j] = len(test_spike_t_s_r.T[0,j][0])/T_seq_korrigiert\n",
    "\n",
    "FiR_u_mean = np.mean(FiR_u)\n",
    "FiR_r_mean = np.mean(FiR_r)\n",
    "# % Fouriertranformations\n",
    "\n",
    "Off_Fac_num_u = 1/(num_tau_max-num_tau_min)*FiR_u_mean*T_seq_korrigiert\n",
    "\n",
    "# %  Numeric functions\n",
    "auto_four_u_temp   = np.real(My_DFT_custom_freqs(num_taus, autocor_num_u.T, num_freqs))\n",
    "auto_four_u  = np.real(auto_four_u_temp)\n",
    "\n",
    "cross_four_r_temp  = np.real(My_DFT_custom_freqs(num_taus, crosscorr_num_r.T, num_freqs))\n",
    "cross_four_r = np.real(cross_four_r_temp)\n",
    "\n",
    "Info_pn_cor2  = -1/2*np.log2(1-(cross_four_r/(auto_four_u+Off_Fac_num_u))) # % Hier repeaats\n"
   ]
  },
  {
   "cell_type": "code",
   "execution_count": 25,
   "metadata": {},
   "outputs": [
    {
     "data": {
      "text/plain": [
       "[<matplotlib.lines.Line2D at 0x1812c2b30a0>]"
      ]
     },
     "execution_count": 25,
     "metadata": {},
     "output_type": "execute_result"
    },
    {
     "data": {
      "image/png": "[encoded data removed]",
      "text/plain": [
       "<Figure size 432x288 with 1 Axes>"
      ]
     },
     "metadata": {
      "needs_background": "light"
     },
     "output_type": "display_data"
    }
   ],
   "source": [
    "plt.plot(num_freqs*100,Info_pn_cor2[0])"
   ]
  }
 ],
 "metadata": {
  "kernelspec": {
   "display_name": "base",
   "language": "python",
   "name": "python3"
  },
  "language_info": {
   "codemirror_mode": {
    "name": "ipython",
    "version": 3
   },
   "file_extension": ".py",
   "mimetype": "text/x-python",
   "name": "python",
   "nbconvert_exporter": "python",
   "pygments_lexer": "ipython3",
   "version": "3.8.8"
  }
 },
 "nbformat": 4,
 "nbformat_minor": 2
}
