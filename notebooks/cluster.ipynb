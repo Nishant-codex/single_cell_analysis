{
 "cells": [
  {
   "cell_type": "code",
   "execution_count": 23,
   "metadata": {},
   "outputs": [],
   "source": [
    "import sys\n",
    "sys.path.append(\"C:/Users/Nishant Joshi/Downloads/Old_code/repo/single_cell_analysis/scripts\")\n",
    "from PCA import *\n",
    "import numpy as np\n",
    "import matplotlib.pyplot as plt \n",
    "import scipy \n",
    "import pickle \n",
    "import pandas as pd \n",
    "from utils import *\n",
    "from tsne import *"
   ]
  },
  {
   "cell_type": "code",
   "execution_count": 24,
   "metadata": {},
   "outputs": [],
   "source": [
    "data_d2 = pickle.load(open('G:/My Drive/all_ephys_d2.p','rb'))\n",
    "data_d1 = pickle.load(open('G:/My Drive/all_ephys_d1.p','rb'))\n",
    "data_sag = pickle.load(open('G:/My Drive/all_ephys_sag.p','rb'))\n"
   ]
  },
  {
   "cell_type": "code",
   "execution_count": 25,
   "metadata": {},
   "outputs": [
    {
     "ename": "TypeError",
     "evalue": "list indices must be integers or slices, not str",
     "output_type": "error",
     "traceback": [
      "\u001b[1;31m---------------------------------------------------------------------------\u001b[0m",
      "\u001b[1;31mTypeError\u001b[0m                                 Traceback (most recent call last)",
      "\u001b[1;32m<ipython-input-25-8584a4322fa1>\u001b[0m in \u001b[0;36m<module>\u001b[1;34m\u001b[0m\n\u001b[0;32m      1\u001b[0m \u001b[1;31m# plot_pca(data_sag)\u001b[0m\u001b[1;33m\u001b[0m\u001b[1;33m\u001b[0m\u001b[1;33m\u001b[0m\u001b[0m\n\u001b[1;32m----> 2\u001b[1;33m \u001b[0mplot_tsne\u001b[0m\u001b[1;33m(\u001b[0m\u001b[0mdata_sag\u001b[0m\u001b[1;33m[\u001b[0m\u001b[1;34m'exc'\u001b[0m\u001b[1;33m]\u001b[0m\u001b[1;33m,\u001b[0m\u001b[0mdata_sag\u001b[0m\u001b[1;33m[\u001b[0m\u001b[1;34m'inh'\u001b[0m\u001b[1;33m]\u001b[0m\u001b[1;33m)\u001b[0m\u001b[1;33m\u001b[0m\u001b[1;33m\u001b[0m\u001b[0m\n\u001b[0m",
      "\u001b[1;32mC:/Users/Nishant Joshi/Downloads/Old_code/repo/single_cell_analysis/scripts\\tsne.py\u001b[0m in \u001b[0;36mplot_tsne\u001b[1;34m(data_inh, data_exc)\u001b[0m\n\u001b[0;32m     37\u001b[0m     \u001b[0mscalar_inh_tsne\u001b[0m \u001b[1;33m=\u001b[0m \u001b[0mStandardScaler\u001b[0m\u001b[1;33m(\u001b[0m\u001b[1;33m)\u001b[0m\u001b[1;33m\u001b[0m\u001b[1;33m\u001b[0m\u001b[0m\n\u001b[0;32m     38\u001b[0m     \u001b[0mscalar_exc_tsne\u001b[0m \u001b[1;33m=\u001b[0m \u001b[0mStandardScaler\u001b[0m\u001b[1;33m(\u001b[0m\u001b[1;33m)\u001b[0m\u001b[1;33m\u001b[0m\u001b[1;33m\u001b[0m\u001b[0m\n\u001b[1;32m---> 39\u001b[1;33m     \u001b[0mmin_size\u001b[0m \u001b[1;33m=\u001b[0m \u001b[0mmin\u001b[0m\u001b[1;33m(\u001b[0m\u001b[0mdata_inh\u001b[0m\u001b[1;33m.\u001b[0m\u001b[0mshape\u001b[0m\u001b[1;33m[\u001b[0m\u001b[1;36m0\u001b[0m\u001b[1;33m]\u001b[0m\u001b[1;33m,\u001b[0m\u001b[0mdata_exc\u001b[0m\u001b[1;33m.\u001b[0m\u001b[0mshape\u001b[0m\u001b[1;33m[\u001b[0m\u001b[1;36m0\u001b[0m\u001b[1;33m]\u001b[0m\u001b[1;33m)\u001b[0m\u001b[1;33m\u001b[0m\u001b[1;33m\u001b[0m\u001b[0m\n\u001b[0m\u001b[0;32m     40\u001b[0m \u001b[1;33m\u001b[0m\u001b[0m\n\u001b[0;32m     41\u001b[0m \u001b[1;33m\u001b[0m\u001b[0m\n",
      "\u001b[1;31mTypeError\u001b[0m: list indices must be integers or slices, not str"
     ]
    }
   ],
   "source": [
    "# plot_pca(data_sag)\n",
    "plot_tsne(data_sag['exc'],data_sag['inh'])"
   ]
  },
  {
   "cell_type": "code",
   "execution_count": 28,
   "metadata": {},
   "outputs": [],
   "source": [
    "db = pd.read_csv('C:/Users/Nishant Joshi/Google Drive/lists/all_files_new.csv')\n",
    "cond_dict = {}\n",
    "for i in np.unique(db['condition']):\n",
    "     cond_dict[i] = len(db[db['condition']==i]['experimentname'])"
   ]
  },
  {
   "cell_type": "code",
   "execution_count": 29,
   "metadata": {},
   "outputs": [
    {
     "data": {
      "text/plain": [
       "{'ACSF': 236,\n",
       " 'AgoAnta': 35,\n",
       " 'Cirazoline': 40,\n",
       " 'D1': 16,\n",
       " 'D1ago': 73,\n",
       " 'D2': 68,\n",
       " 'DOPA': 1,\n",
       " 'DOPAMINE': 21,\n",
       " 'Dop': 19,\n",
       " 'M1-ag': 4,\n",
       " 'M1-ago': 38,\n",
       " 'M1-ago+ant': 4,\n",
       " 'M1-ant': 24,\n",
       " 'M1-ant+ago': 10,\n",
       " 'aCSF': 207,\n",
       " 'aCSF_BIC': 39,\n",
       " 'sag': 23}"
      ]
     },
     "execution_count": 29,
     "metadata": {},
     "output_type": "execute_result"
    }
   ],
   "source": [
    "cond_dict"
   ]
  }
 ],
 "metadata": {
  "kernelspec": {
   "display_name": "base",
   "language": "python",
   "name": "python3"
  },
  "language_info": {
   "codemirror_mode": {
    "name": "ipython",
    "version": 3
   },
   "file_extension": ".py",
   "mimetype": "text/x-python",
   "name": "python",
   "nbconvert_exporter": "python",
   "pygments_lexer": "ipython3",
   "version": "3.8.8"
  },
  "orig_nbformat": 4
 },
 "nbformat": 4,
 "nbformat_minor": 2
}
